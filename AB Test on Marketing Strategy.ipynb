{
 "cells": [
  {
   "cell_type": "markdown",
   "id": "7cff108e",
   "metadata": {},
   "source": [
    "## Maximum bidding vs. average bidding\n",
    "\n",
    "Facebook recently introduced a new type of bid, average bidding, as an alternative to the current type of bidding called maximum bidding.\n",
    "\n",
    "One of our customers decided to test this new feature and wants to do an A/B test to see if average bidding converts more than maximum bidding.\n",
    "\n",
    "### Story of Dataset \n",
    "In this dataset, which includes the customer's website information, there is information such as the number of advertisements that users see and click, as well as earnings information from here.\n",
    "\n",
    "\n",
    "There are two separate data sets, the control and test groups.\n",
    "\n",
    "### Variables\n",
    "Impression – Ad views\n",
    "Clicks - Indicates the number of clicks on the displayed ad.\n",
    "Purchase – Indicates the number of products purchased after the ads clicked\n",
    "Earning – Earnings after purchased products"
   ]
  },
  {
   "cell_type": "code",
   "execution_count": 1,
   "id": "2b07fd59",
   "metadata": {},
   "outputs": [],
   "source": [
    "import pandas as pd\n",
    "from scipy.stats import ttest_1samp, shapiro, levene, ttest_ind, mannwhitneyu, pearsonr, spearmanr, kendalltau\n",
    "\n",
    "pd.set_option('display.max_columns', None)\n",
    "pd.set_option('display.max_rows', 10)\n",
    "pd.set_option('display.float_format', lambda x: '%.5f' % x)\n"
   ]
  },
  {
   "cell_type": "code",
   "execution_count": 2,
   "id": "4340e234",
   "metadata": {},
   "outputs": [],
   "source": [
    "df_control = pd.read_excel(r'/Users/firatsoydinc/Desktop/Miuul/Week - 5/Ders Oncesi Notlar/ab_testing.xlsx',sheet_name= 'Control Group')\n",
    "df_test  = pd.read_excel(r'/Users/firatsoydinc/Desktop/Miuul/Week - 5/Ders Oncesi Notlar/ab_testing.xlsx',sheet_name= 'Test Group')"
   ]
  },
  {
   "cell_type": "markdown",
   "id": "1e3aa523",
   "metadata": {},
   "source": [
    "### Churn_rate variable that shows after how many ad views the customer clicked on that ad "
   ]
  },
  {
   "cell_type": "code",
   "execution_count": 3,
   "id": "cae6c3d3",
   "metadata": {},
   "outputs": [],
   "source": [
    "df_control['churn_rate'] = df_control['Impression']/df_control['Click']\n",
    "df_test['churn_rate']= df_test['Impression']/ df_test['Click']\n"
   ]
  },
  {
   "cell_type": "markdown",
   "id": "feb76d44",
   "metadata": {},
   "source": [
    "### Data Cleaning"
   ]
  },
  {
   "cell_type": "code",
   "execution_count": 4,
   "id": "3b83b65a",
   "metadata": {},
   "outputs": [],
   "source": [
    "def outlier_thresholds(dataframe, variable):\n",
    "    quartile1 = dataframe[variable].quantile(0.01)\n",
    "    quartile3 = dataframe[variable].quantile(0.99)\n",
    "    interquantile_range = quartile3 - quartile1\n",
    "    up_limit = quartile3 + 1.5 * interquantile_range\n",
    "    low_limit = quartile1 - 1.5 * interquantile_range\n",
    "    return low_limit, up_limit\n",
    "\n",
    "def replace_with_thresholds(dataframe, variable):\n",
    "    low_limit, up_limit = outlier_thresholds(dataframe, variable)\n",
    "    dataframe.loc[(dataframe[variable] < low_limit), variable] = low_limit\n",
    "    dataframe.loc[(dataframe[variable] > up_limit), variable] = up_limit\n"
   ]
  },
  {
   "cell_type": "code",
   "execution_count": 5,
   "id": "c8da5000",
   "metadata": {},
   "outputs": [],
   "source": [
    "replace_with_thresholds(df_control,'churn_rate')\n",
    "replace_with_thresholds(df_test,'churn_rate')"
   ]
  },
  {
   "cell_type": "markdown",
   "id": "dba3b19d",
   "metadata": {},
   "source": [
    "### A/B Test\n",
    "A/B test is performed to check whether there is a statistically significant difference between two independent data sets. There are 2 different A/B test methods. One of them is parametric and the other is nonparametric. In order to perform a parametric test, the data set must provide 3 assumptions. If even one of these assumptions is not met, non-parametric testing is applied.\n",
    "\n",
    "Assumptions: \n",
    "    \n",
    "    Number of observations must be at least 30  (n>30)\n",
    "    \n",
    "    Variables must be normal distributed \n",
    "    \n",
    "    Variance homogeneity must be assigned by variables\n",
    "\n",
    "#### First Assumption n>30"
   ]
  },
  {
   "cell_type": "code",
   "execution_count": 6,
   "id": "bb2879ab",
   "metadata": {},
   "outputs": [
    {
     "name": "stdout",
     "output_type": "stream",
     "text": [
      "Control data set has 200 observations.\n",
      "Test data set has  200 observations.\n"
     ]
    }
   ],
   "source": [
    "print('Control data set has',df_control.size, 'observations.')\n",
    "print('Test data set has ',df_test.size,'observations.')"
   ]
  },
  {
   "cell_type": "markdown",
   "id": "c79a308e",
   "metadata": {},
   "source": [
    "#### Second Assumption (Normal Distribution)\n",
    "\n",
    "    H1: Variables are normally distributed.\n",
    "    H0: Variables are not normally distributed.\n",
    "    \n",
    "If p_value is less than 0.05 h1 is reject, else fail to reject "
   ]
  },
  {
   "cell_type": "code",
   "execution_count": 7,
   "id": "244c27aa",
   "metadata": {},
   "outputs": [
    {
     "name": "stdout",
     "output_type": "stream",
     "text": [
      "Test Stat of  Impression = 0.9697, p-value = 0.3514\n",
      "Test Stat of  Click = 0.9844, p-value = 0.8461\n",
      "Test Stat of  Purchase = 0.9773, p-value = 0.5891\n",
      "Test Stat of  Earning = 0.9756, p-value = 0.5306\n",
      "Test Stat of  churn_rate = 0.9548, p-value = 0.1107\n"
     ]
    }
   ],
   "source": [
    "for each in df_control.columns:\n",
    "    test_stat, pvalue = shapiro(df_control[each])\n",
    "    print('Test Stat of ', each ,'= %.4f, p-value = %.4f' % (test_stat, pvalue))"
   ]
  },
  {
   "cell_type": "markdown",
   "id": "06be1169",
   "metadata": {},
   "source": [
    "Variables of control dataset' p value is greater than 0.05. So H1 hypotesis is fail to reject. Variables are normally distributed."
   ]
  },
  {
   "cell_type": "code",
   "execution_count": 8,
   "id": "a85c1cab",
   "metadata": {
    "scrolled": true
   },
   "outputs": [
    {
     "name": "stdout",
     "output_type": "stream",
     "text": [
      "Test Stat of  Impression = 0.9720, p-value = 0.4148\n",
      "Test Stat of  Click = 0.9896, p-value = 0.9699\n",
      "Test Stat of  Purchase = 0.9589, p-value = 0.1541\n",
      "Test Stat of  Earning = 0.9780, p-value = 0.6163\n",
      "Test Stat of  churn_rate = 0.9161, p-value = 0.0058\n"
     ]
    }
   ],
   "source": [
    "for each in df_test.columns:\n",
    "    test_stat, pvalue = shapiro(df_test[each])\n",
    "    print('Test Stat of ', each ,'= %.4f, p-value = %.4f' % (test_stat, pvalue))"
   ]
  },
  {
   "cell_type": "markdown",
   "id": "9b734673",
   "metadata": {},
   "source": [
    "Variables of test dataset' p value is greater than 0.05 except churn_rate variable. If A/B testing is to be applied to the churn rate variable, non-parametric testing should be applied. If it will be applied to other variables, parametric test assumptions should continue to be checked for those variables."
   ]
  },
  {
   "cell_type": "markdown",
   "id": "187c4863",
   "metadata": {},
   "source": [
    "#### Third Assumption (Variance Homogenity)\n",
    "\n",
    "    H1: Variances of Variables Are Homogeneously Distributed\n",
    "    H0: Not homogeneously distributed\n",
    "   \n",
    "If p_value is less than 0.05 h1 is reject, else fail to reject "
   ]
  },
  {
   "cell_type": "code",
   "execution_count": 9,
   "id": "3c63d2c9",
   "metadata": {},
   "outputs": [
    {
     "name": "stdout",
     "output_type": "stream",
     "text": [
      "Test Stat of  Impression = 0.5865, p-value = 0.4461\n",
      "Test Stat of  Click = 6.3041, p-value = 0.0141\n",
      "Test Stat of  Purchase = 2.6393, p-value = 0.1083\n",
      "Test Stat of  Earning = 0.3532, p-value = 0.5540\n",
      "Test Stat of  churn_rate = 0.7336, p-value = 0.3943\n"
     ]
    }
   ],
   "source": [
    "for each1 in df_control.columns:\n",
    "    test_stat, pvalue = levene(df_control[each1],df_test[each1])\n",
    "    print('Test Stat of ', each1 ,'= %.4f, p-value = %.4f' % (test_stat, pvalue))\n"
   ]
  },
  {
   "cell_type": "markdown",
   "id": "ccbe0843",
   "metadata": {},
   "source": [
    "### Parametric Test \n",
    "\n",
    "    H1: There is a significant difference between the data\n",
    "    H0: There is no significant difference between the data"
   ]
  },
  {
   "cell_type": "code",
   "execution_count": 10,
   "id": "aad605a5",
   "metadata": {},
   "outputs": [
    {
     "name": "stdout",
     "output_type": "stream",
     "text": [
      "Test Stat of  Impression = -4.2966, p-value = 0.0000\n",
      "Test Stat of  Click = 4.4266, p-value = 0.0000\n",
      "Test Stat of  Purchase = -0.9416, p-value = 0.3493\n",
      "Test Stat of  Earning = -9.2545, p-value = 0.0000\n"
     ]
    }
   ],
   "source": [
    "parametric_test_variables = ['Impression','Click','Purchase','Earning']\n",
    "\n",
    "for each in parametric_test_variables:\n",
    "    test_stat, pvalue = ttest_ind(df_control[each],\n",
    "                               df_test[each],\n",
    "                                  equal_var=True)\n",
    "    print('Test Stat of ', each ,'= %.4f, p-value = %.4f' % (test_stat, pvalue))"
   ]
  },
  {
   "cell_type": "markdown",
   "id": "90d7fa67",
   "metadata": {},
   "source": [
    "Impression, click, and earnings variables have a p-value less than 0.05. There is a statistical difference between these groups of variables. But since the p_value is greater than 0.05 in the purchase variable, there is no statistical difference."
   ]
  },
  {
   "cell_type": "markdown",
   "id": "978d4393",
   "metadata": {},
   "source": [
    "### Non-Parametric Test \n",
    "\n",
    "    H1: There is a significant difference between the data\n",
    "    H0: There is no significant difference between the data"
   ]
  },
  {
   "cell_type": "code",
   "execution_count": 11,
   "id": "aebf635f",
   "metadata": {},
   "outputs": [
    {
     "name": "stdout",
     "output_type": "stream",
     "text": [
      "Test Stat = 292.0000, p-value = 0.0000\n"
     ]
    }
   ],
   "source": [
    "test_stat, pvalue = mannwhitneyu(df_control['churn_rate'],\n",
    "                               df_test['churn_rate'])\n",
    "\n",
    "print('Test Stat = %.4f, p-value = %.4f' % (test_stat, pvalue))"
   ]
  },
  {
   "cell_type": "markdown",
   "id": "9192941a",
   "metadata": {},
   "source": [
    "Since the p value of the Churn rate variable is less than 0.05, we can say that there is a statistical difference between them. But since there is no difference in the purchase variable, it will be more efficient if our customer continues to use the average bidding method. Statistical controls can be made again when the number of data for this study is increased."
   ]
  }
 ],
 "metadata": {
  "kernelspec": {
   "display_name": "Python 3 (ipykernel)",
   "language": "python",
   "name": "python3"
  },
  "language_info": {
   "codemirror_mode": {
    "name": "ipython",
    "version": 3
   },
   "file_extension": ".py",
   "mimetype": "text/x-python",
   "name": "python",
   "nbconvert_exporter": "python",
   "pygments_lexer": "ipython3",
   "version": "3.9.7"
  }
 },
 "nbformat": 4,
 "nbformat_minor": 5
}
